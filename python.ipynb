{
  "cells": [
    {
      "cell_type": "markdown",
      "metadata": {
        "id": "view-in-github",
        "colab_type": "text"
      },
      "source": [
        "<a href=\"https://colab.research.google.com/github/MishaKravchenkoTZ-01/practice-2/blob/main/python.ipynb\" target=\"_parent\"><img src=\"https://colab.research.google.com/assets/colab-badge.svg\" alt=\"Open In Colab\"/></a>"
      ]
    },
    {
      "cell_type": "markdown",
      "metadata": {
        "id": "0H_WGRxyTHNT"
      },
      "source": [
        "# Основи Python\n",
        "\n",
        "## Завдання № 1\n",
        "Написати функцію з одним аргументом, яка перевіряє чи є аргумент парним чи непарним. Функція повинна повернути `even` або `odd` в залежності від того яке то число. Якщо аргумент `None` або не є числом -- необхідно повернути пусту строку."
      ]
    },
    {
      "cell_type": "code",
      "execution_count": 56,
      "metadata": {
        "id": "G9_MAsQTTHNY",
        "colab": {
          "base_uri": "https://localhost:8080/"
        },
        "outputId": "73dcc6fd-8abb-41a8-f240-87a8f03029f6"
      },
      "outputs": [
        {
          "output_type": "stream",
          "name": "stdout",
          "text": [
            "odd\n",
            "even\n",
            "\n",
            "\n"
          ]
        }
      ],
      "source": [
        "from __future__ import annotations\n",
        "\n",
        "def is_even(arg: int) -> str:\n",
        "  if arg is None or not isinstance(arg, int):\n",
        "    return \"\"\n",
        "  elif arg % 2 == 0:\n",
        "    return \"even\"\n",
        "  else:\n",
        "    return \"odd\"\n",
        "\n",
        "print(is_even(1))\n",
        "print(is_even(2))\n",
        "print(is_even(None))\n",
        "print(is_even(\"1\"))"
      ]
    },
    {
      "cell_type": "markdown",
      "metadata": {
        "id": "qqngv_BrTHNb"
      },
      "source": [
        "## Завдання № 2\n",
        "Написати функцію, яка починає перебирати числа від 1 до нескінченності і перевіряє чи є число простим (просте число - те яке ділиться лише на 1 чи само на себе). Якщо просте число знайдене - воно додається до списку `numbers`. Після пʼятого знайденого простого числа функція повинна повернути суму всіх пʼяти простих чисел у списку."
      ]
    },
    {
      "cell_type": "code",
      "execution_count": 14,
      "metadata": {
        "id": "F5M8xRs7THNb",
        "colab": {
          "base_uri": "https://localhost:8080/"
        },
        "outputId": "abbbf133-b477-477d-f116-a7929521685f"
      },
      "outputs": [
        {
          "output_type": "stream",
          "name": "stdout",
          "text": [
            "28\n"
          ]
        }
      ],
      "source": [
        "from __future__ import annotations\n",
        "import math\n",
        "\n",
        "def is_prime(arg: int) -> bool:\n",
        "  if arg < 2:\n",
        "    return False\n",
        "  elif arg == 2:\n",
        "    return True\n",
        "  i = 2\n",
        "  limit = int(math.sqrt(arg))\n",
        "  while i <= limit:\n",
        "    if arg % i == 0:\n",
        "      return False\n",
        "    i += 1\n",
        "  return True\n",
        "\n",
        "def sum_simple() -> int:\n",
        "  numbers = []\n",
        "  i = 1\n",
        "  while len(numbers) < 5:\n",
        "    if is_prime(i):\n",
        "      numbers.append(i)\n",
        "    i += 1\n",
        "  return sum(numbers)\n",
        "\n",
        "print(sum_simple())"
      ]
    },
    {
      "cell_type": "markdown",
      "metadata": {
        "id": "yNN0B801THNc"
      },
      "source": [
        "## Завдання № 3\n",
        "Написати функцію з одним аргументом `n`, що є числом. Функція повинна повернути суму наступного ряду з `n` чисел $1 + 11 + 111 + 1111 + ....$, де кожний елемент - число з постійно зростаючою кількістю одиниць.\n",
        "\n",
        "Наприклад:\n",
        "\n",
        "Ви передаєте в функцію аргумент `5`.\n",
        "\n",
        "Функція рахує сумму для ряду виду: $1 + 11 + 111 + 1111 + 11111$.\n",
        "\n",
        "В даному прикладі вона повинна повернути число `12345`"
      ]
    },
    {
      "cell_type": "code",
      "execution_count": 19,
      "metadata": {
        "id": "OUVPqZZ1THNc",
        "colab": {
          "base_uri": "https://localhost:8080/"
        },
        "outputId": "110bf19c-f6b0-4c2a-bce7-52ea21ce640e"
      },
      "outputs": [
        {
          "output_type": "stream",
          "name": "stdout",
          "text": [
            "1234567\n"
          ]
        }
      ],
      "source": [
        "from __future__ import annotations\n",
        "\n",
        "def sum_ones(n: int) -> int:\n",
        "  total = 0\n",
        "  current = 0\n",
        "  for i in range(n):\n",
        "    current = current * 10 + 1\n",
        "    total += current\n",
        "  return total\n",
        "\n",
        "print(sum_ones(7))"
      ]
    },
    {
      "cell_type": "markdown",
      "metadata": {
        "id": "bq4PR5pITHNc"
      },
      "source": [
        "# Об’єктно-орієнтоване програмування за допомогою Python\n",
        "## Завдання №4\n",
        "\n",
        "Створити обʼктну модель організації.\n",
        "\n",
        "В організації повинно бути 3 типи робітників `Employee`: `Developer`, `Designer` & `Manager`.\n",
        "\n",
        "У кожного `Employee` повинні бути поля:\n",
        "- Імʼя - `name`\n",
        "- Призвіще - `surname`\n",
        "- Базова заробітна плата - `base_salary`\n",
        "- Досвід (у роках) - `experience`\n",
        "\n",
        "У `Designer` додатково повинен бути коефіцієнт ефективності `eff_coef`- число від 0 до 1, включно. Якщо коефіцієнт виходить за межі цього діапазону - необхідно поставити значення 0 (якщо він негативний) або 1 (якщо він більше 1).\n",
        "\n",
        "У `Manager` повинна бути команда (список) що складається з довільної кількості `Developer` та `Designer`.\n",
        "\n",
        "Створити обʼєкт `Department`, що містить список `Manager` (які в свою чергу містять команди).\n",
        "Department повинен мати метод give_salary() який повинен надрукувати зарплату ВСІХ `Employee` цієї організації в форматі __іʼмя призвіще отримав counted_salary шекєлей__.\n",
        "\n",
        "Зарплата `counted_salary` для кожного `Employee` обраховується з поля `base_salary` (базова заробітна плата) з наступними умовами:\n",
        "- якщо його досвід роботи більше 2 років, він отримує `base_salary + 200`, але якщо його досвід більше 5 років - він отримує `base_salary * 1.2 + 500`.\n",
        "- Додатково, на зп `Designer` впливає коефіцієнт ефективності `counted_salary * eff_coef`.\n",
        "- Додатково, зп Manager розраховується з `counted_salary` плюс:\n",
        "    - Якщо в його команді більше 5 людей - `counted_salary + 200`, але якщо в його команді більше 10 людей то `counted_salary + 300`.\n",
        "    - Якщо в його команді більше половини `Developer` - його кінцева зп збільшується ще на `10%`.\n",
        "\n",
        "Додаткова інформація:\n",
        "- Для використання методів з суперкласу можна використати метод `super()`.\n",
        "- Перевірити чи є об’єкт екземпляром класу можна за допомогою методу `isinstance`. Його перший агрументом - екземпляр класу, який ми перевіряємо, а другий - імʼя (_батьківського_) класу. Наприклад, для екземпляра автобуса що є транспортним засобом `print(isinstance(myBusInstance, Vehicle)` виведе true."
      ]
    },
    {
      "cell_type": "code",
      "execution_count": 55,
      "metadata": {
        "id": "CMDXJMG3THNd",
        "colab": {
          "base_uri": "https://localhost:8080/"
        },
        "outputId": "453c05b0-7247-42f7-d176-54ceb7315437"
      },
      "outputs": [
        {
          "output_type": "stream",
          "name": "stdout",
          "text": [
            "Misha dev1 Kravchenko отримав 2000 шекелів.\n",
            "Misha dev2 Kravchenko отримав 2700 шекелів.\n",
            "Misha dev3 Kravchenko отримав 2700 шекелів.\n",
            "Misha des1 Kravchenko отримав 2400.0 шекелів.\n",
            "Misha des2 Kravchenko отримав 1819.9999999999998 шекелів.\n",
            "Misha man Kravchenko отримав 7150.000000000001 шекелів.\n"
          ]
        }
      ],
      "source": [
        "from types import new_class\n",
        "from __future__ import annotations\n",
        "\n",
        "class Employee:\n",
        "    def __init__(self, name: str, surname: str, base_salary: float, experience: int) -> None:\n",
        "        self.name = name\n",
        "        self.surname = surname\n",
        "        self.base_salary = base_salary\n",
        "        self.experience = experience\n",
        "\n",
        "\n",
        "    def counted_salary(self) -> float:\n",
        "        salary = self.base_salary\n",
        "        if self.experience > 5:\n",
        "          salary = salary * 1.2 + 500\n",
        "        elif self.experience > 2:\n",
        "          salary += 200\n",
        "\n",
        "        return salary\n",
        "\n",
        "class Developer(Employee):\n",
        "    def __init__(self, name: str, surname: str, base_salary: float, experience: int) -> None:\n",
        "        super().__init__(name, surname, base_salary, experience)\n",
        "\n",
        "class Designer(Employee):\n",
        "    def __init__(self, name: str, surname: str, experience: int, eff_coef: float, base_salary:float) -> None:\n",
        "        super().__init__(name, surname, base_salary, experience)\n",
        "        self.eff_coef = min(max(eff_coef, 0), 1)\n",
        "\n",
        "    def counted_salary(self) -> float:\n",
        "        return super().counted_salary()*self.eff_coef\n",
        "\n",
        "class Manager(Employee):\n",
        "    team: list[Employee] = []\n",
        "\n",
        "    def __init__(self, name: str, surname: str, experience: int, base_salary:float) -> None:\n",
        "        super().__init__(name, surname, base_salary, experience)\n",
        "        self.team: list[Employee] = []\n",
        "\n",
        "    def addEmployee(self,employee: Employee) -> None:\n",
        "      if employee not in self.team:\n",
        "        self.team.append(employee)\n",
        "\n",
        "    def counted_salary(self) -> float:\n",
        "        salary = super().counted_salary()\n",
        "\n",
        "        if len(self.team) > 10:\n",
        "          salary += 300\n",
        "        elif len(self.team) > 5:\n",
        "          salary += 200\n",
        "\n",
        "        devCount = 0\n",
        "        for employee in self.team:\n",
        "          if isinstance(employee, Developer):\n",
        "            devCount += 1\n",
        "        if devCount > len(self.team)/2:\n",
        "          salary *= 1.1\n",
        "\n",
        "        return salary\n",
        "\n",
        "\n",
        "class Department:\n",
        "    managers: list[Manager] = [\n",
        "\n",
        "    ]\n",
        "    def __init__(self) -> None:\n",
        "        self.managers: list[Manager] = []\n",
        "\n",
        "    def give_salary(self):\n",
        "      for managers in self.managers:\n",
        "        for employee in managers.team:\n",
        "          print(f\"{employee.name} {employee.surname} отримав {employee.counted_salary()} шекелів.\")\n",
        "      print(f\"{managers.name} {managers.surname} отримав {managers.counted_salary()} шекелів.\")\n",
        "\n",
        "\n",
        "    def addManager(self,manager: Manager) -> None:\n",
        "      if manager not in self.managers:\n",
        "        self.managers.append(manager)\n",
        "\n",
        "\n",
        "\n",
        "dev1 = Developer(\"Misha dev1\", \"Kravchenko\",  2000,1)\n",
        "dev2 = Developer(\"Misha dev2\", \"Kravchenko\",  2500,3)\n",
        "dev3 = Developer(\"Misha dev3\", \"Kravchenko\",  2500,3)\n",
        "\n",
        "designer1 = Designer(\"Misha des1\", \"Kravchenko\", 4, 0.8, 2800)\n",
        "designer2 = Designer(\"Misha des2\", \"Kravchenko\", 2, 0.7, 2600)\n",
        "\n",
        "manager = Manager(\"Misha man\", \"Kravchenko\", 8, 5000)\n",
        "manager.addEmployee(dev1)\n",
        "manager.addEmployee(dev2)\n",
        "manager.addEmployee(dev3)\n",
        "\n",
        "manager.addEmployee(designer1)\n",
        "manager.addEmployee(designer2)\n",
        "\n",
        "department = Department()\n",
        "department.addManager(manager)\n",
        "\n",
        "department.give_salary()\n"
      ]
    }
  ],
  "metadata": {
    "kernelspec": {
      "display_name": "venv",
      "language": "python",
      "name": "python3"
    },
    "language_info": {
      "name": "python",
      "version": "3.11.6"
    },
    "colab": {
      "provenance": [],
      "include_colab_link": true
    }
  },
  "nbformat": 4,
  "nbformat_minor": 0
}